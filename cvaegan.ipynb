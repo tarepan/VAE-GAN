{
  "cells": [
    {
      "cell_type": "markdown",
      "metadata": {
        "id": "jdmEOXaZ1PNa"
      },
      "source": [
        "# Conditional VAE-GAN\n",
        "\n",
        "[![Package badge]][github]\n",
        "[![Open In Colab]][notebook]\n",
        "\n",
        "[github]:https://github.com/tarepan/VAE-GAN\n",
        "[notebook]:https://colab.research.google.com/github/tarepan/VAE-GAN/blob/main/vaeGAN/cvaegan.ipynb\n",
        "[Package badge]:https://img.shields.io/badge/GitHub-vaeagn-9cf.svg\n",
        "[Open In Colab]:https://colab.research.google.com/assets/colab-badge.svg"
      ]
    },
    {
      "cell_type": "markdown",
      "metadata": {
        "id": "2GOIiUn-1Sdp"
      },
      "source": [
        "## Setup"
      ]
    },
    {
      "cell_type": "code",
      "execution_count": null,
      "metadata": {
        "colab": {
          "base_uri": "https://localhost:8080/"
        },
        "id": "sQgp_Usu0k5G",
        "outputId": "301d905a-5dfe-4bb8-e3ef-98cebb7c9ab9"
      },
      "outputs": [],
      "source": [
        "!git clone https://github.com/tarepan/VAE-GAN.git\n",
        "%cd \"./VAE-GAN\""
      ]
    },
    {
      "cell_type": "markdown",
      "metadata": {
        "id": "tbV0HBc62Woa"
      },
      "source": [
        "## Training"
      ]
    },
    {
      "cell_type": "code",
      "execution_count": null,
      "metadata": {
        "id": "xAvx-wKUfOvy"
      },
      "outputs": [],
      "source": [
        "!mkdir ./results/cvaegan_results"
      ]
    },
    {
      "cell_type": "code",
      "execution_count": null,
      "metadata": {},
      "outputs": [],
      "source": [
        "!python -m vaegan.main_train"
      ]
    },
    {
      "cell_type": "markdown",
      "metadata": {
        "id": "fBeDcMAM2pe0"
      },
      "source": [
        "## Inference"
      ]
    },
    {
      "cell_type": "code",
      "execution_count": null,
      "metadata": {
        "id": "UldZRfTN2qnt"
      },
      "outputs": [],
      "source": [
        "import torch\n",
        "import torch.utils.data\n",
        "from torch import nn, optim\n",
        "from torch.autograd import Variable\n",
        "from torch.nn import functional as F\n",
        "from torchvision import datasets, transforms\n",
        "from torchvision.utils import save_image\n",
        "\n",
        "\n",
        "netG = torch.load('pretrained_models/netG2.pth')\n",
        "netD = torch.load('pretrained_models/netD2.pth')\n",
        "aux  = torch.load('pretrained_models/aux2.pth')\n",
        "\n",
        "test_dataset = datasets.MNIST('../data', train=False, transform=transforms.ToTensor())\n",
        "test_loader = torch.utils.data.DataLoader(test_dataset, batch_size=bsz, shuffle=True)\n",
        "\n",
        "data, y = iter(test_loader).next()\n",
        "save_image(data.view(-1,1,28,28), './fake.png', normalize=True)"
      ]
    },
    {
      "cell_type": "code",
      "execution_count": null,
      "metadata": {
        "id": "IjHL8wH021ZO"
      },
      "outputs": [],
      "source": [
        "%reload_ext autoreload\n",
        "%autoreload 2\n",
        "\n",
        "mu,logvar = netG(data.cuda(), y.cuda(), torch.tensor([8]).cuda(), .5)\n",
        "std = logvar.mul(0.5).exp_()\n",
        "eps = std.data.new(std.size()).normal_()\n",
        "z=eps.mul(std).add_(mu)\n",
        "fake = aux(z, y, torch.tensor([8]).cuda(), .5)\n",
        "save_image(fake.data.view(-1,1,28,28), './results/cvae results/generated2.png', normalize=True)\n",
        "\n",
        "mu,logvar = netG(fake, y.cuda())\n",
        "std = logvar.mul(0.5).exp_()\n",
        "eps = std.data.new(std.size()).normal_()\n",
        "z=eps.mul(std).add_(mu)\n",
        "fake2 = aux(z, y)\n",
        "save_image(fake2.data.view(-1,1,28,28), './results/cvae results/generated3.png', normalize=True)\n",
        "\n",
        "mu,logvar = netG(data.cuda(), y.cuda(), torch.tensor([8]).cuda(), 1)\n",
        "std = logvar.mul(0.5).exp_()\n",
        "eps = std.data.new(std.size()).normal_()\n",
        "z=eps.mul(std).add_(mu)\n",
        "fake = aux(z, y, torch.tensor([8]).cuda(), 1)\n",
        "save_image(fake.data.view(-1,1,28,28), './results/cvae results/generated.png', normalize=True)"
      ]
    }
  ],
  "metadata": {
    "accelerator": "GPU",
    "colab": {
      "gpuType": "T4",
      "provenance": []
    },
    "kernelspec": {
      "display_name": "Python 3",
      "name": "python3"
    }
  },
  "nbformat": 4,
  "nbformat_minor": 0
}
